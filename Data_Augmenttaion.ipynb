{
  "nbformat": 4,
  "nbformat_minor": 0,
  "metadata": {
    "colab": {
      "provenance": [],
      "gpuType": "T4",
      "authorship_tag": "ABX9TyOIBUUV5Id4yV7gKErDytKa",
      "include_colab_link": true
    },
    "kernelspec": {
      "name": "python3",
      "display_name": "Python 3"
    },
    "language_info": {
      "name": "python"
    },
    "accelerator": "GPU"
  },
  "cells": [
    {
      "cell_type": "markdown",
      "metadata": {
        "id": "view-in-github",
        "colab_type": "text"
      },
      "source": [
        "<a href=\"https://colab.research.google.com/github/RaoSaeed836/100_Day-s_DL/blob/main/Data_Augmenttaion.ipynb\" target=\"_parent\"><img src=\"https://colab.research.google.com/assets/colab-badge.svg\" alt=\"Open In Colab\"/></a>"
      ]
    },
    {
      "cell_type": "code",
      "source": [
        "import tensorflow as tf\n",
        "from tensorflow.keras.preprocessing.image import ImageDataGenerator\n",
        "import numpy as np\n",
        "import os\n",
        "\n",
        "# 📥 Original Image ka Path (Desktop pe jo image hai)\n",
        "image_path = r\"/content/cat.jpg\"  # 👈 Apni image ka path do (Windows pe)\n",
        "\n",
        "# 📂 Save Directory (Desktop ka folder jahan save karna hai)\n",
        "save_dir = r\"C:\\Users\\saeed\\Desktop\"  # 👈 Apne Desktop ka folder path\n",
        "\n",
        "# Folder banaye agar exist nahi karta\n",
        "if not os.path.exists(save_dir):\n",
        "    os.makedirs(save_dir)\n",
        "\n",
        "# 🎨 Data Augmentation Setup\n",
        "datagen = ImageDataGenerator(\n",
        "    rotation_range=40,\n",
        "    width_shift_range=0.2,\n",
        "    height_shift_range=0.2,\n",
        "    shear_range=0.2,\n",
        "    zoom_range=0.2,\n",
        "    horizontal_flip=True,\n",
        "    fill_mode='nearest'\n",
        ")\n",
        "\n",
        "# 📸 Image Load karo\n",
        "img = tf.keras.utils.load_img(image_path, target_size=(150, 150))\n",
        "img_array = tf.keras.utils.img_to_array(img)\n",
        "img_array = np.expand_dims(img_array, axis=0)\n",
        "\n",
        "# 🚀 Augmented Images Generate + Save\n",
        "total_images = 5  # 👈 Kitni images chahiye\n",
        "prefix_name = 'augmented'\n",
        "\n",
        "i = 0\n",
        "for batch in datagen.flow(img_array, batch_size=1, save_to_dir=save_dir, save_prefix=prefix_name, save_format='jpeg'):\n",
        "    print(f\"[✔] Saved: {prefix_name}_{i}.jpeg in {save_dir}\")\n",
        "    i += 1\n",
        "    if i >= total_images:\n",
        "        break\n",
        "\n",
        "print(f\"\\n🎉 {total_images} images successfully saved in folder: {save_dir}\")\n"
      ],
      "metadata": {
        "colab": {
          "base_uri": "https://localhost:8080/"
        },
        "id": "C7_7U6dLFskx",
        "outputId": "0135cc75-446b-4d55-f952-90738acefb25"
      },
      "execution_count": 26,
      "outputs": [
        {
          "output_type": "stream",
          "name": "stdout",
          "text": [
            "[✔] Saved: augmented_0.jpeg in C:\\Users\\saeed\\Desktop\n",
            "[✔] Saved: augmented_1.jpeg in C:\\Users\\saeed\\Desktop\n",
            "[✔] Saved: augmented_2.jpeg in C:\\Users\\saeed\\Desktop\n",
            "[✔] Saved: augmented_3.jpeg in C:\\Users\\saeed\\Desktop\n",
            "[✔] Saved: augmented_4.jpeg in C:\\Users\\saeed\\Desktop\n",
            "\n",
            "🎉 5 images successfully saved in folder: C:\\Users\\saeed\\Desktop\n"
          ]
        }
      ]
    },
    {
      "cell_type": "code",
      "source": [],
      "metadata": {
        "id": "SfAcNZioFsmc"
      },
      "execution_count": null,
      "outputs": []
    },
    {
      "cell_type": "code",
      "source": [],
      "metadata": {
        "id": "PYK8yVxlFsqP"
      },
      "execution_count": null,
      "outputs": []
    },
    {
      "cell_type": "code",
      "source": [],
      "metadata": {
        "id": "HN4R57_zFssl"
      },
      "execution_count": null,
      "outputs": []
    },
    {
      "cell_type": "code",
      "source": [],
      "metadata": {
        "id": "tF-rlsfEFsv9"
      },
      "execution_count": null,
      "outputs": []
    }
  ]
}